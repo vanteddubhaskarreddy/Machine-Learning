{
 "cells": [
  {
   "cell_type": "code",
   "execution_count": 1,
   "id": "79c122ca",
   "metadata": {},
   "outputs": [
    {
     "name": "stdout",
     "output_type": "stream",
     "text": [
      "Sorted list: [19, 19, 20, 22, 24, 24, 24, 25, 25, 26]\n",
      "Minimum element is 19\n",
      "Maximum element is 26\n",
      "Latest list: [19, 19, 20, 22, 24, 24, 24, 25, 25, 26, 19, 26]\n",
      "Median is: 24.0\n",
      "Avereage element is: 22.75\n",
      "The Range of list difference :  7\n"
     ]
    }
   ],
   "source": [
    "# A list named ages is declared\n",
    "ages = [19, 22, 19, 24, 20, 25, 26, 24, 25, 24]\n",
    "\n",
    "# Sort() function is used to sort the ages\n",
    "\n",
    "ages.sort()\n",
    "print(\"Sorted list:\",ages)\n",
    "\n",
    "#Finding the minimum and maximum element of the list \n",
    "Minimum = min(ages)\n",
    "Maximum = max(ages)\n",
    "\n",
    "#Printing the mimimum and maximum element of the list.\n",
    "print(\"Minimum element is\", Minimum)\n",
    "print(\"Maximum element is\", Maximum)\n",
    "\n",
    "#Appending the minimum and maximum values to the sorted list.\n",
    "ages.append(Minimum)\n",
    "ages.append(Maximum)\n",
    "\n",
    "#Printing the latest list after appending the mimimum and maximum values.\n",
    "print(\"Latest list:\", ages)\n",
    "\n",
    "#Importing the Statistics module for finding the median of the list.\n",
    "import statistics\n",
    "\n",
    "#using the statistics.median() method\n",
    "Median = statistics.median(ages)\n",
    "\n",
    "#Printing the Median of the list\n",
    "print(\"Median is:\", Median)\n",
    "\n",
    "#Finding the average of the list \n",
    "Average = sum(ages)/len(ages)\n",
    "\n",
    "#Printing the average element\n",
    "print (\"Avereage element is:\", Average)\n",
    "\n",
    "# The Range of ages is\n",
    "print(\"The Range of list difference : \", ages[len(ages)-1]-ages[0])\n"
   ]
  },
  {
   "cell_type": "code",
   "execution_count": 2,
   "id": "e7750002",
   "metadata": {},
   "outputs": [
    {
     "name": "stdout",
     "output_type": "stream",
     "text": [
      "Dictionary Dog :  {'name': 'Tommy', 'color': 'black', 'breed': 'pumalian', 'legs': 4, 'age': 10}\n",
      "Student: {'first_name': 'Haneesha', 'last_name': 'Aldena', 'gender': 'Female', 'age': 22, 'marital_status': 'Single', 'skills': ['C', 'C++', 'Python', 'Java'], 'country': 'USA', 'city': 'kansas city', 'address': '8392 W 99th Ct'}\n",
      "Length of the student dictonary is:  9\n",
      "Skills :  ['C', 'C++', 'Python', 'Java'] and Data type of skills :  <class 'list'>\n",
      "After Adding JavaScript Skill :  ['C', 'C++', 'Python', 'Java', 'JavaScript']\n",
      "Student keys are :  dict_keys(['first_name', 'last_name', 'gender', 'age', 'marital_status', 'skills', 'country', 'city', 'address'])\n",
      "Student values are :  dict_values(['Haneesha', 'Aldena', 'Female', 22, 'Single', ['C', 'C++', 'Python', 'Java', 'JavaScript'], 'USA', 'kansas city', '8392 W 99th Ct'])\n"
     ]
    }
   ],
   "source": [
    "#A dictionary named Dog is Declared.\n",
    "\n",
    "dog = { \"name\" : \"Tommy\"  , \"color\" : \"black\", \"breed\" : \"pumalian\" , \"legs\" : 4, \"age\" : 10}\n",
    "#Printing the Dictionary\n",
    "\n",
    "print(\"Dictionary Dog : \",dog)\n",
    "\n",
    "\"\"\"\"Declaring the Student dictionary including the fields such as first name, last name, age,marital status, \n",
    "skills, country and address.\"\"\"\n",
    "\n",
    "student = {\"first_name\" : \"Haneesha\",\"last_name\" : \"Aldena\", \"gender\" : \"Female\",\"age\" : 22,\"marital_status\" : \"Single\",\n",
    "    \"skills\" : [\"C\", \"C++\", \"Python\", \"Java\"],\"country\" : \"USA\",\"city\" : \"kansas city\", \"address\" : \"8392 W 99th Ct\"}\n",
    "#Printing the Student Dictionary\n",
    "\n",
    "print(\"Student:\", student)\n",
    "\n",
    "#Finding and printing the length of student dictonary\n",
    "\n",
    "print(\"Length of the student dictonary is: \",len(student))\n",
    "\n",
    "#Printing the values of skills and the data type.\n",
    "\n",
    "print(\"Skills : \",student[\"skills\"],\"and Data type of skills : \",type(student[\"skills\"]))\n",
    "\n",
    "# Modifying the Skills list by appending the skill #JavaScript to the list.\n",
    "\n",
    "student[\"skills\"].append(\"JavaScript\")\n",
    "\n",
    "print(\"After Adding JavaScript Skill : \",student[\"skills\"])\n",
    "\n",
    "#Displaying student keys\n",
    "\n",
    "print(\"Student keys are : \",student.keys())\n",
    "\n",
    "#Displaying Values of student\n",
    "\n",
    "print(\"Student values are : \",student.values())"
   ]
  },
  {
   "cell_type": "code",
   "execution_count": 3,
   "id": "2aa1af22",
   "metadata": {},
   "outputs": [
    {
     "name": "stdout",
     "output_type": "stream",
     "text": [
      "Brothers:  ('Jeevitesh', 'kishore', 'likhit')\n",
      "Sisters :  ('Priyanka', 'priya')\n",
      "Siblings:  ('Jeevitesh', 'kishore', 'likhit', 'Priyanka', 'priya')\n",
      "Total Siblings :  5\n",
      "Family Members :  ('Jeevitesh', 'kishore', 'likhit', 'Priyanka', 'priya', 'Samba', 'Suseela')\n"
     ]
    }
   ],
   "source": [
    "#A tuple named brothers is declared\n",
    "brothers = (\"Jeevitesh\", \"kishore\", \"likhit\")\n",
    "print(\"Brothers: \",brothers)\n",
    "\n",
    "#A tuple named sister is declared\n",
    "\n",
    "sisters = (\"Priyanka\", \"priya\")\n",
    "\n",
    "print(\"Sisters : \",sisters)\n",
    "\n",
    "#joining the brothers tuple and sisters tuple to the tuple named siblings\n",
    "\n",
    "siblings = brothers + sisters\n",
    "\n",
    "#Printing the tuple - Siblings\n",
    "print (\"Siblings: \", siblings)\n",
    "\n",
    "#Total number of siblings\n",
    "print(\"Total Siblings : \", len(siblings))\n",
    "\n",
    "#Modifying the tuple value by adding mother and father name\n",
    "\n",
    "H = list(siblings)\n",
    "Father = \"Samba\"\n",
    "Mother = \"Suseela\"\n",
    "H.append(Father)\n",
    "H.append(Mother)\n",
    "\n",
    "# Assigning to family members\n",
    "\n",
    "family_members = tuple(H)\n",
    "\n",
    "print(\"Family Members : \",family_members)"
   ]
  },
  {
   "cell_type": "code",
   "execution_count": 4,
   "id": "f8ad6074",
   "metadata": {},
   "outputs": [
    {
     "name": "stdout",
     "output_type": "stream",
     "text": [
      "IT Companies :  {'Apple', 'IBM', 'Facebook', 'Amazon', 'Microsoft', 'Oracle', 'Google'}\n",
      "Length of it_compamies is:  7\n",
      "it_companies after adding Twitter:  {'Apple', 'IBM', 'Facebook', 'Amazon', 'Microsoft', 'Oracle', 'Twiter', 'Google'}\n",
      "Adding Adding Items to it_compaies :  {'Apple', 'Virtusa', 'Facebook', 'Amazon', 'Microsoft', 'Oracle', 'Twiter', 'Google', 'IBM', 'TCS'}\n",
      "After Removing Virtusa from Set :  {'Apple', 'Facebook', 'Amazon', 'Microsoft', 'Oracle', 'Twiter', 'Google', 'IBM', 'TCS'}\n",
      "After using discard function :  {'Apple', 'Facebook', 'Amazon', 'Microsoft', 'Oracle', 'Twiter', 'Google', 'IBM', 'TCS'}\n",
      "Joining Set A and Set B :  {19, 20, 22, 24, 25, 26, 27, 28}\n",
      "Intersection of set A and set B :  {19, 20, 22, 24, 25, 26}\n",
      "A is subset of B :  True\n",
      "Weather A is disjoint set of B :  False\n",
      "Joining Set A with Set B :  {19, 20, 22, 24, 25, 26, 27, 28}\n",
      "Joining Set B with Set A :  {19, 20, 22, 24, 25, 26, 27, 28}\n",
      "Symmetric Difference Between Set A and Set B :  {27, 28}\n",
      "set()\n",
      "set()\n",
      "Age : [22, 19, 24, 25, 26, 24, 25, 24]\n",
      "After converting age into set :  {19, 22, 24, 25, 26} <class 'set'>\n",
      "length of set age :  5\n",
      "length of list age :  8\n"
     ]
    }
   ],
   "source": [
    "it_companies = {'Facebook', 'Google', 'Microsoft', 'Apple', 'IBM', 'Oracle', 'Amazon'}\n",
    "\n",
    "print(\"IT Companies : \", it_companies)\n",
    "#Printing the length of it_companies\n",
    "\n",
    "print(\"Length of it_compamies is: \",len(it_companies))\n",
    "\n",
    "#Adding the item Twitter to it_companies\n",
    "\n",
    "it_companies.add(\"Twiter\")\n",
    "print(\"it_companies after adding Twitter: \",it_companies)\n",
    "\n",
    "#inserting multiple it companies to the set it_companies.\n",
    "\n",
    "it_companies_2 = { 'TCS', 'Virtusa' }\n",
    "\n",
    "it_companies.update(it_companies_2)\n",
    "\n",
    "print(\"Adding Adding Items to it_compaies : \",it_companies)\n",
    "\n",
    "#Removing item Virtusa from the set\n",
    "\n",
    "it_companies.remove(\"Virtusa\")\n",
    "\n",
    "print(\"After Removing Virtusa from Set : \",it_companies)\n",
    "\n",
    "#Difference betweeb remove() and discard\n",
    "\n",
    "\"\"\" \n",
    "The Remove() and Discard() method used to delete the item in the set. The \n",
    "main differnece between remove() and discard() is remove() will raise an \n",
    "issue if the element is not availabe in the set but discard element does not \n",
    "raise an error if so. \n",
    "\"\"\"\n",
    "#Example : \n",
    "#Doesn't show any error\n",
    "it_companies.discard(\"Virtusa\")\n",
    "\n",
    "print(\"After using discard function : \", it_companies)\n",
    "\n",
    "#it_companies.remove(\"Virtusa\")\n",
    "\n",
    "# Shows Error if element is not available\n",
    "#print(\"After using remove function : \", it_companies)\n",
    "\n",
    "#Declring the sets A and B\n",
    "\n",
    "A = {19, 22, 24, 20, 25, 26}\n",
    "\n",
    "B = {19, 22, 20, 25, 26, 24, 28, 27}\n",
    "\n",
    "#Joining the sets A and B\n",
    "C=A.union(B)\n",
    "\n",
    "print(\"Joining Set A and Set B : \",C)\n",
    "\n",
    "#Finding the intersection of sets A and B\n",
    "\n",
    "I = A.intersection(B)\n",
    "\n",
    "print(\"Intersection of set A and set B : \", I)\n",
    " \n",
    "#Checking Weather A is Subset of B or not\n",
    "\n",
    "S = A.issubset(B)\n",
    "print(\"A is subset of B : \",S)\n",
    "\n",
    "#Checking weather A is disjoint set of B or not\n",
    "\n",
    "D = A.isdisjoint(B)\n",
    "print(\"Weather A is disjoint set of B : \",D)\n",
    "\n",
    "#Joining A with B and B with A\n",
    "\n",
    "print(\"Joining Set A with Set B : \",A.union(B))\n",
    "\n",
    "print(\"Joining Set B with Set A : \",B.union(A))\n",
    "\n",
    "#Symmetric difference between A and B\n",
    "\n",
    "Sy = A.symmetric_difference(B)\n",
    "\n",
    "print(\"Symmetric Difference Between Set A and Set B : \",Sy)\n",
    "\n",
    "#Deleting the entire Sets (Set A and Set B)\n",
    "\n",
    "A.clear()\n",
    "B.clear()\n",
    "\n",
    "print(A)\n",
    "print(B)\n",
    "\n",
    "#Converting ages into complete set\n",
    "\n",
    "age = [22, 19, 24, 25, 26, 24, 25, 24]\n",
    "\n",
    "print(\"Age :\",age)\n",
    "\n",
    "sage = set(age)\n",
    "\n",
    "print(\"After converting age into set : \",sage, type(sage))\n",
    "\n",
    "print(\"length of set age : \",len(sage))\n",
    "print(\"length of list age : \",len(age))\n"
   ]
  },
  {
   "cell_type": "code",
   "execution_count": 5,
   "id": "4ae10b82",
   "metadata": {},
   "outputs": [
    {
     "name": "stdout",
     "output_type": "stream",
     "text": [
      "The area of circle is:  2826.0\n",
      "Circumference of circle :  188.4\n",
      "\n",
      "Enter the radius 6\n",
      "area of circle with the radius determined  by the user: 18.84\n"
     ]
    }
   ],
   "source": [
    "#The radius of a circle is 30 meters\n",
    "r=30\n",
    "\n",
    "#Determining the area of the circle\n",
    "\n",
    "_area_of_circle_ = 3.14 * (r**2)\n",
    "\n",
    "print(\"The area of circle is: \", _area_of_circle_ )\n",
    "\n",
    "#Finding the Circumference of the circle\n",
    "\n",
    "_circum_of_circle_ = 2 * 3.14 * r\n",
    "\n",
    "print(\"Circumference of circle : \", _circum_of_circle_)\n",
    "\n",
    "print()\n",
    "\n",
    "input_radius = int(input(\"Enter the radius \"))\n",
    "\n",
    "area = 3.14 * input_radius\n",
    "\n",
    "print(\"area of circle with the radius determined  by the user:\", area)\n"
   ]
  },
  {
   "cell_type": "code",
   "execution_count": 6,
   "id": "9b71cfd3",
   "metadata": {},
   "outputs": [
    {
     "name": "stdout",
     "output_type": "stream",
     "text": [
      "The Given string is :  I am a teacher and I love to inspire and teach people\n",
      "Number of unique words: 10\n",
      "Unique words :  {'am', 'and', 'a', 'teacher', 'inspire', 'I', 'teach', 'people', 'to', 'love'}\n"
     ]
    }
   ],
   "source": [
    "#Declaring the string\n",
    "\n",
    "str = \"I am a teacher and I love to inspire and teach people\"\n",
    "\n",
    "print(\"The Given string is : \", str)\n",
    "\n",
    "# Stored the string str in a set using the split() function.\n",
    "\n",
    "Set = set(str.split(\" \"))\n",
    "\n",
    "#finding the number of unique words.\n",
    "\n",
    "print(\"Number of unique words:\", len(Set))\n",
    " \n",
    "#Printing the unique words of a string by printing the set.\n",
    "\n",
    "print(\"Unique words : \", Set)"
   ]
  },
  {
   "cell_type": "code",
   "execution_count": 7,
   "id": "8e261d11",
   "metadata": {},
   "outputs": [
    {
     "name": "stdout",
     "output_type": "stream",
     "text": [
      "Name \t\t Age \t Country \t City\n",
      "Asabeneh \t 250 \t Finland \t Helsinki\n"
     ]
    }
   ],
   "source": [
    "#Printing According to the pattern\n",
    "print(\"Name \\t\\t Age \\t Country \\t City\")\n",
    "print(\"Asabeneh \\t 250 \\t Finland \\t Helsinki\")"
   ]
  },
  {
   "cell_type": "code",
   "execution_count": 8,
   "id": "ee9e6627",
   "metadata": {},
   "outputs": [
    {
     "name": "stdout",
     "output_type": "stream",
     "text": [
      "The Area of Circle with radius 10 is 314.0 meters square.\n"
     ]
    }
   ],
   "source": [
    "#Using String formatting method\n",
    "\n",
    "radius = 10\n",
    "area = 3.14 * radius ** 2\n",
    "print(\"The Area of Circle with radius {} is {} meters square.\".format(radius,area))"
   ]
  },
  {
   "cell_type": "code",
   "execution_count": 9,
   "id": "621ab13b",
   "metadata": {},
   "outputs": [
    {
     "name": "stdout",
     "output_type": "stream",
     "text": [
      "Enter number of weights : 5\n",
      "45\n",
      "87\n",
      "65\n",
      "98\n",
      "45\n",
      "The weights of N students: [45, 87, 65, 98, 45]\n",
      "The weights of N students converted to Kilograms from lbs: [0.0, 0.45359237, 0.90718474, 1.3607771100000001, 1.81436948]\n"
     ]
    }
   ],
   "source": [
    "#An empty list named l which reads the weights of N students is declared\n",
    "\n",
    "l = []\n",
    "\n",
    "#Taking input from User\n",
    "  \n",
    "n = int(input(\"Enter number of weights : \"))\n",
    "  \n",
    "# Appending the values to list l\n",
    "for i in range(0, n):\n",
    "    ele = int(input())\n",
    "    l.append(ele) # adding the element\n",
    "      \n",
    "print(\"The weights of N students:\", l)\n",
    "\n",
    "#A list named Kg is declared which contains the values converted from lbs to Kilograms\n",
    "\n",
    "kg=[]\n",
    "\n",
    "for i in range(0, n):\n",
    "    ele =0.45359237 * i\n",
    "    kg.append(ele)\n",
    "\n",
    "print(\"The weights of N students converted to Kilograms from lbs:\", kg)"
   ]
  },
  {
   "cell_type": "code",
   "execution_count": null,
   "id": "ed46b1be",
   "metadata": {},
   "outputs": [],
   "source": []
  }
 ],
 "metadata": {
  "kernelspec": {
   "display_name": "Python 3 (ipykernel)",
   "language": "python",
   "name": "python3"
  },
  "language_info": {
   "codemirror_mode": {
    "name": "ipython",
    "version": 3
   },
   "file_extension": ".py",
   "mimetype": "text/x-python",
   "name": "python",
   "nbconvert_exporter": "python",
   "pygments_lexer": "ipython3",
   "version": "3.9.12"
  }
 },
 "nbformat": 4,
 "nbformat_minor": 5
}
